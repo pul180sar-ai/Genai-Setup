{
 "cells": [
  {
   "cell_type": "code",
   "execution_count": null,
   "id": "5b861bc2",
   "metadata": {},
   "outputs": [
    {
     "name": "stdout",
     "output_type": "stream",
     "text": [
      "Requirement already satisfied: google-generativeai in c:\\users\\asus\\appdata\\local\\programs\\python\\python313\\lib\\site-packages (0.8.5)\n",
      "Requirement already satisfied: google-ai-generativelanguage==0.6.15 in c:\\users\\asus\\appdata\\local\\programs\\python\\python313\\lib\\site-packages (from google-generativeai) (0.6.15)\n",
      "Requirement already satisfied: google-api-core in c:\\users\\asus\\appdata\\local\\programs\\python\\python313\\lib\\site-packages (from google-generativeai) (2.25.1)\n",
      "Requirement already satisfied: google-api-python-client in c:\\users\\asus\\appdata\\local\\programs\\python\\python313\\lib\\site-packages (from google-generativeai) (2.181.0)\n",
      "Requirement already satisfied: google-auth>=2.15.0 in c:\\users\\asus\\appdata\\local\\programs\\python\\python313\\lib\\site-packages (from google-generativeai) (2.40.3)\n",
      "Requirement already satisfied: protobuf in c:\\users\\asus\\appdata\\local\\programs\\python\\python313\\lib\\site-packages (from google-generativeai) (5.29.5)\n",
      "Requirement already satisfied: pydantic in c:\\users\\asus\\appdata\\local\\programs\\python\\python313\\lib\\site-packages (from google-generativeai) (2.11.9)\n",
      "Requirement already satisfied: tqdm in c:\\users\\asus\\appdata\\local\\programs\\python\\python313\\lib\\site-packages (from google-generativeai) (4.67.1)\n",
      "Requirement already satisfied: typing-extensions in c:\\users\\asus\\appdata\\local\\programs\\python\\python313\\lib\\site-packages (from google-generativeai) (4.15.0)\n",
      "Requirement already satisfied: proto-plus<2.0.0dev,>=1.22.3 in c:\\users\\asus\\appdata\\local\\programs\\python\\python313\\lib\\site-packages (from google-ai-generativelanguage==0.6.15->google-generativeai) (1.26.1)\n",
      "Requirement already satisfied: googleapis-common-protos<2.0.0,>=1.56.2 in c:\\users\\asus\\appdata\\local\\programs\\python\\python313\\lib\\site-packages (from google-api-core->google-generativeai) (1.70.0)\n",
      "Requirement already satisfied: requests<3.0.0,>=2.18.0 in c:\\users\\asus\\appdata\\local\\programs\\python\\python313\\lib\\site-packages (from google-api-core->google-generativeai) (2.32.5)\n",
      "Requirement already satisfied: grpcio<2.0.0,>=1.33.2 in c:\\users\\asus\\appdata\\local\\programs\\python\\python313\\lib\\site-packages (from google-api-core[grpc]!=2.0.*,!=2.1.*,!=2.10.*,!=2.2.*,!=2.3.*,!=2.4.*,!=2.5.*,!=2.6.*,!=2.7.*,!=2.8.*,!=2.9.*,<3.0.0dev,>=1.34.1->google-ai-generativelanguage==0.6.15->google-generativeai) (1.74.0)\n",
      "Requirement already satisfied: grpcio-status<2.0.0,>=1.33.2 in c:\\users\\asus\\appdata\\local\\programs\\python\\python313\\lib\\site-packages (from google-api-core[grpc]!=2.0.*,!=2.1.*,!=2.10.*,!=2.2.*,!=2.3.*,!=2.4.*,!=2.5.*,!=2.6.*,!=2.7.*,!=2.8.*,!=2.9.*,<3.0.0dev,>=1.34.1->google-ai-generativelanguage==0.6.15->google-generativeai) (1.71.2)\n",
      "Requirement already satisfied: cachetools<6.0,>=2.0.0 in c:\\users\\asus\\appdata\\local\\programs\\python\\python313\\lib\\site-packages (from google-auth>=2.15.0->google-generativeai) (5.5.2)\n",
      "Requirement already satisfied: pyasn1-modules>=0.2.1 in c:\\users\\asus\\appdata\\local\\programs\\python\\python313\\lib\\site-packages (from google-auth>=2.15.0->google-generativeai) (0.4.2)\n",
      "Requirement already satisfied: rsa<5,>=3.1.4 in c:\\users\\asus\\appdata\\local\\programs\\python\\python313\\lib\\site-packages (from google-auth>=2.15.0->google-generativeai) (4.9.1)\n",
      "Requirement already satisfied: charset_normalizer<4,>=2 in c:\\users\\asus\\appdata\\local\\programs\\python\\python313\\lib\\site-packages (from requests<3.0.0,>=2.18.0->google-api-core->google-generativeai) (3.4.3)\n",
      "Requirement already satisfied: idna<4,>=2.5 in c:\\users\\asus\\appdata\\local\\programs\\python\\python313\\lib\\site-packages (from requests<3.0.0,>=2.18.0->google-api-core->google-generativeai) (3.10)\n",
      "Requirement already satisfied: urllib3<3,>=1.21.1 in c:\\users\\asus\\appdata\\local\\programs\\python\\python313\\lib\\site-packages (from requests<3.0.0,>=2.18.0->google-api-core->google-generativeai) (2.5.0)\n",
      "Requirement already satisfied: certifi>=2017.4.17 in c:\\users\\asus\\appdata\\local\\programs\\python\\python313\\lib\\site-packages (from requests<3.0.0,>=2.18.0->google-api-core->google-generativeai) (2025.8.3)\n",
      "Requirement already satisfied: pyasn1>=0.1.3 in c:\\users\\asus\\appdata\\local\\programs\\python\\python313\\lib\\site-packages (from rsa<5,>=3.1.4->google-auth>=2.15.0->google-generativeai) (0.6.1)\n",
      "Requirement already satisfied: httplib2<1.0.0,>=0.19.0 in c:\\users\\asus\\appdata\\local\\programs\\python\\python313\\lib\\site-packages (from google-api-python-client->google-generativeai) (0.31.0)\n",
      "Requirement already satisfied: google-auth-httplib2<1.0.0,>=0.2.0 in c:\\users\\asus\\appdata\\local\\programs\\python\\python313\\lib\\site-packages (from google-api-python-client->google-generativeai) (0.2.0)\n",
      "Requirement already satisfied: uritemplate<5,>=3.0.1 in c:\\users\\asus\\appdata\\local\\programs\\python\\python313\\lib\\site-packages (from google-api-python-client->google-generativeai) (4.2.0)\n",
      "Requirement already satisfied: pyparsing<4,>=3.0.4 in c:\\users\\asus\\appdata\\local\\programs\\python\\python313\\lib\\site-packages (from httplib2<1.0.0,>=0.19.0->google-api-python-client->google-generativeai) (3.2.4)\n",
      "Requirement already satisfied: annotated-types>=0.6.0 in c:\\users\\asus\\appdata\\local\\programs\\python\\python313\\lib\\site-packages (from pydantic->google-generativeai) (0.7.0)\n",
      "Requirement already satisfied: pydantic-core==2.33.2 in c:\\users\\asus\\appdata\\local\\programs\\python\\python313\\lib\\site-packages (from pydantic->google-generativeai) (2.33.2)\n",
      "Requirement already satisfied: typing-inspection>=0.4.0 in c:\\users\\asus\\appdata\\local\\programs\\python\\python313\\lib\\site-packages (from pydantic->google-generativeai) (0.4.1)\n",
      "Requirement already satisfied: colorama in c:\\users\\asus\\appdata\\roaming\\python\\python313\\site-packages (from tqdm->google-generativeai) (0.4.6)\n",
      "Note: you may need to restart the kernel to use updated packages.\n"
     ]
    }
   ],
   "source": [
    "#pip install google-generativeai"
   ]
  },
  {
   "cell_type": "code",
   "execution_count": null,
   "id": "4ca3615a",
   "metadata": {},
   "outputs": [],
   "source": [
    "import google.generativeai as genai\n",
    "import os"
   ]
  },
  {
   "cell_type": "code",
   "execution_count": 16,
   "id": "271b2707",
   "metadata": {},
   "outputs": [],
   "source": [
    "api = os.getenv('GOOGLE_API_KEY')\n"
   ]
  },
  {
   "cell_type": "code",
   "execution_count": 17,
   "id": "97dce1a7",
   "metadata": {},
   "outputs": [
    {
     "name": "stdout",
     "output_type": "stream",
     "text": [
      "models/gemini-1.5-pro-latest\n",
      "models/gemini-1.5-pro-002\n",
      "models/gemini-1.5-pro\n",
      "models/gemini-1.5-flash-latest\n",
      "models/gemini-1.5-flash\n",
      "models/gemini-1.5-flash-002\n",
      "models/gemini-1.5-flash-8b\n",
      "models/gemini-1.5-flash-8b-001\n",
      "models/gemini-1.5-flash-8b-latest\n",
      "models/gemini-2.5-pro-preview-03-25\n",
      "models/gemini-2.5-flash-preview-05-20\n",
      "models/gemini-2.5-flash\n",
      "models/gemini-2.5-flash-lite-preview-06-17\n",
      "models/gemini-2.5-pro-preview-05-06\n",
      "models/gemini-2.5-pro-preview-06-05\n",
      "models/gemini-2.5-pro\n",
      "models/gemini-2.0-flash-exp\n",
      "models/gemini-2.0-flash\n",
      "models/gemini-2.0-flash-001\n",
      "models/gemini-2.0-flash-exp-image-generation\n",
      "models/gemini-2.0-flash-lite-001\n",
      "models/gemini-2.0-flash-lite\n",
      "models/gemini-2.0-flash-preview-image-generation\n",
      "models/gemini-2.0-flash-lite-preview-02-05\n",
      "models/gemini-2.0-flash-lite-preview\n",
      "models/gemini-2.0-pro-exp\n",
      "models/gemini-2.0-pro-exp-02-05\n",
      "models/gemini-exp-1206\n",
      "models/gemini-2.0-flash-thinking-exp-01-21\n",
      "models/gemini-2.0-flash-thinking-exp\n",
      "models/gemini-2.0-flash-thinking-exp-1219\n",
      "models/gemini-2.5-flash-preview-tts\n",
      "models/gemini-2.5-pro-preview-tts\n",
      "models/learnlm-2.0-flash-experimental\n",
      "models/gemma-3-1b-it\n",
      "models/gemma-3-4b-it\n",
      "models/gemma-3-12b-it\n",
      "models/gemma-3-27b-it\n",
      "models/gemma-3n-e4b-it\n",
      "models/gemma-3n-e2b-it\n",
      "models/gemini-2.5-flash-lite\n",
      "models/gemini-2.5-flash-image-preview\n"
     ]
    }
   ],
   "source": [
    "for m in genai.list_models():\n",
    "    if 'generateContent' in m.supported_generation_methods:\n",
    "        print(m.name)"
   ]
  },
  {
   "cell_type": "markdown",
   "id": "d5b2c08b",
   "metadata": {},
   "source": [
    "### Generate a content from Gemini Model"
   ]
  },
  {
   "cell_type": "code",
   "execution_count": 18,
   "id": "10a227e0",
   "metadata": {},
   "outputs": [],
   "source": [
    "### Generate a content from Gemini Model"
   ]
  },
  {
   "cell_type": "code",
   "execution_count": 19,
   "id": "bb734acd",
   "metadata": {},
   "outputs": [],
   "source": [
    "genai.configure(api_key=api)"
   ]
  },
  {
   "cell_type": "code",
   "execution_count": 20,
   "id": "6fc89946",
   "metadata": {},
   "outputs": [],
   "source": [
    "model = genai.GenerativeModel('models/gemini-2.5-flash-lite')"
   ]
  },
  {
   "cell_type": "code",
   "execution_count": 21,
   "id": "e0f9543e",
   "metadata": {},
   "outputs": [],
   "source": [
    "prompt ='''Assume you are a sports expert. Prepare a summary on MS Dhoni's carrer. Include all the key achivements and\n",
    "statistics. Generate output in bullet points.'''"
   ]
  },
  {
   "cell_type": "code",
   "execution_count": 22,
   "id": "ff45b08e",
   "metadata": {},
   "outputs": [],
   "source": [
    "response = model.generate_content(prompt)"
   ]
  },
  {
   "cell_type": "code",
   "execution_count": 23,
   "id": "dfcd00d8",
   "metadata": {},
   "outputs": [
    {
     "name": "stdout",
     "output_type": "stream",
     "text": [
      "As a sports expert, here's a comprehensive summary of MS Dhoni's illustrious career, highlighting his key achievements and statistics:\n",
      "\n",
      "**Mahendra Singh Dhoni: A Legend's Legacy**\n",
      "\n",
      "*   **The Finisher Supreme & Captain Cool:** Widely regarded as one of the greatest finishers and captains in cricket history, MS Dhoni redefined the role of a wicket-keeper batsman and led India to unprecedented success.\n",
      "\n",
      "**Key Achievements:**\n",
      "\n",
      "*   **ICC Trophies Galore:**\n",
      "    *   **2007 ICC World Twenty20 Champion:** Led India to victory in the inaugural T20 World Cup, showcasing his innovative captaincy and fearless approach.\n",
      "    *   **2011 ICC Cricket World Cup Champion:** A historic moment for Indian cricket, captaining the team to a memorable World Cup triumph after 28 years, culminating in his iconic six.\n",
      "    *   **2013 ICC Champions Trophy Champion:** Completed the rare feat of winning all three major ICC limited-overs trophies as captain.\n",
      "*   **Test Cricket Supremacy:**\n",
      "    *   **2009 ICC Test Champion Mace:** Led India to the No. 1 ranking in Test cricket for the first time under his captaincy.\n",
      "    *   **First Indian Captain to win a Test series in New Zealand (2009) and England (2011).**\n",
      "*   **Record-Breaking Captaincy:**\n",
      "    *   **Most capped captain in international cricket across all formats (332 matches).**\n",
      "    *   **Most wins as captain in ODIs (110 wins).**\n",
      "    *   **Most successful captain in T20Is (41 wins).**\n",
      "    *   **Most stumpings by a wicket-keeper in international cricket (123).**\n",
      "*   **Master of the Chase:**\n",
      "    *   **Most successful batsman in chases in ODIs.**\n",
      "    *   **Numerous match-winning innings, often under immense pressure, solidifying his \"Finisher\" reputation.**\n",
      "*   **Wicket-Keeping Prowess:**\n",
      "    *   **One of the most agile and effective wicket-keepers, known for his lightning-fast stumpings and sharp reflexes.**\n",
      "    *   **Holds the record for the most dismissals by a wicket-keeper in ODIs (634).**\n",
      "*   **Batting Brilliance:**\n",
      "    *   **One of the greatest finishers the game has ever seen, known for his calm demeanor and ability to hit big sixes when needed.**\n",
      "    *   **A prolific run-scorer across all formats, particularly in the middle-order.**\n",
      "*   **T20 League Dominance (IPL):**\n",
      "    *   **Chennai Super Kings (CSK) Captain:** Led CSK to an unprecedented **five Indian Premier League (IPL) titles (2010, 2011, 2018, 2021, 2023).**\n",
      "    *   **Most successful captain in IPL history.**\n",
      "    *   **One of the highest run-scorers in IPL history.**\n",
      "    *   **Most appearances in IPL history.**\n",
      "*   **Retirement Milestones:**\n",
      "    *   **Retired from international cricket on August 15, 2020.**\n",
      "    *   **Retired from IPL after the 2023 season, with a legendary farewell.**\n",
      "\n",
      "**Key Statistics (International Cricket):**\n",
      "\n",
      "*   **Tests:**\n",
      "    *   Matches: 96\n",
      "    *   Runs: 4,876\n",
      "    *   Average: 38.09\n",
      "    *   Centuries: 6\n",
      "    *   Highest Score: 224\n",
      "*   **ODIs:**\n",
      "    *   Matches: 350\n",
      "    *   Runs: 10,773\n",
      "    *   Average: 44.86\n",
      "    *   Centuries: 2\n",
      "    *   Highest Score: 183\n",
      "    *   Stumpings: 123 (World Record)\n",
      "*   **T20Is:**\n",
      "    *   Matches: 98\n",
      "    *   Runs: 1,617\n",
      "    *   Average: 37.60\n",
      "    *   Highest Score: 66*\n",
      "\n",
      "**Legacy:**\n",
      "\n",
      "MS Dhoni's career is not just about numbers; it's about the indelible mark he left on Indian cricket and the inspiration he provided to millions. His composure under pressure, strategic acumen, and unparalleled ability to lead from the front have cemented his place as one of cricket's all-time greats. He will be remembered for his helicopter shots, his calm demeanor, and his unparalleled success as a captain and player.\n"
     ]
    }
   ],
   "source": [
    "print(response.text)"
   ]
  },
  {
   "cell_type": "code",
   "execution_count": null,
   "id": "81f9ff3f",
   "metadata": {},
   "outputs": [],
   "source": []
  }
 ],
 "metadata": {
  "kernelspec": {
   "display_name": "Python 3",
   "language": "python",
   "name": "python3"
  },
  "language_info": {
   "codemirror_mode": {
    "name": "ipython",
    "version": 3
   },
   "file_extension": ".py",
   "mimetype": "text/x-python",
   "name": "python",
   "nbconvert_exporter": "python",
   "pygments_lexer": "ipython3",
   "version": "3.13.7"
  }
 },
 "nbformat": 4,
 "nbformat_minor": 5
}
